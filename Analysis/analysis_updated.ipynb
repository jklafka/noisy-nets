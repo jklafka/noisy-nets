{
 "cells": [
  {
   "cell_type": "code",
   "execution_count": 1,
   "metadata": {
    "collapsed": false
   },
   "outputs": [],
   "source": [
    "import pandas as pd\n",
    "import numpy as np\n",
    "from nltk.translate.bleu_score import sentence_bleu\n",
    "from nltk.translate.bleu_score import SmoothingFunction\n",
    "from scipy.stats import pearsonr,spearmanr\n",
    "import matplotlib.pyplot as plt\n",
    "%matplotlib inline\n",
    "pd.set_option('display.float_format', lambda x: '%.3f' % x)"
   ]
  },
  {
   "cell_type": "code",
   "execution_count": 2,
   "metadata": {
    "collapsed": true
   },
   "outputs": [],
   "source": [
    "Input_Output_Type = \"clean_clean\""
   ]
  },
  {
   "cell_type": "code",
   "execution_count": 3,
   "metadata": {
    "collapsed": false,
    "scrolled": true
   },
   "outputs": [
    {
     "name": "stdout",
     "output_type": "stream",
     "text": [
      "(2000, 6)\n"
     ]
    },
    {
     "data": {
      "text/plain": [
       "Input             object\n",
       "Prediction        object\n",
       "Output            object\n",
       "Correct          float64\n",
       "Noisetype         object\n",
       "Noiselocation      int64\n",
       "dtype: object"
      ]
     },
     "execution_count": 3,
     "metadata": {},
     "output_type": "execute_result"
    }
   ],
   "source": [
    "# read in results\n",
    "results = pd.read_csv(\"../Results/noisy-test_\" + Input_Output_Type + \".csv\", names=[\"Input\", \"Prediction\", \"Output\", \"Correct\", \n",
    "                                              \"Noisetype\", \"Noiselocation\"], skiprows=62, na_filter=True, quotechar = '\"',\n",
    "                                                 error_bad_lines=False, na_values=['na'])\n",
    "results.Correct = pd.to_numeric(results.Correct,errors='coerce')\n",
    "results = results[results.Correct.notnull()] \n",
    "print(results.shape)\n",
    "results.dtypes"
   ]
  },
  {
   "cell_type": "code",
   "execution_count": 4,
   "metadata": {
    "collapsed": false
   },
   "outputs": [],
   "source": [
    "# calculate BLEU score\n",
    "references = results['Output'].tolist()\n",
    "candidates = results['Prediction'].tolist()"
   ]
  },
  {
   "cell_type": "code",
   "execution_count": 5,
   "metadata": {
    "collapsed": false
   },
   "outputs": [
    {
     "data": {
      "text/html": [
       "<div>\n",
       "<table border=\"1\" class=\"dataframe\">\n",
       "  <thead>\n",
       "    <tr style=\"text-align: right;\">\n",
       "      <th></th>\n",
       "      <th>Input</th>\n",
       "      <th>Prediction</th>\n",
       "      <th>Output</th>\n",
       "      <th>Correct</th>\n",
       "      <th>Noisetype</th>\n",
       "      <th>Noiselocation</th>\n",
       "      <th>BLEU-1</th>\n",
       "      <th>BLEU-2</th>\n",
       "      <th>BLEU-3</th>\n",
       "      <th>BLEU-4</th>\n",
       "    </tr>\n",
       "  </thead>\n",
       "  <tbody>\n",
       "    <tr>\n",
       "      <th>0</th>\n",
       "      <td>i want to in america for a few years</td>\n",
       "      <td>i want to travel for a few country for a</td>\n",
       "      <td>i want to stay in america for a few years</td>\n",
       "      <td>0.300</td>\n",
       "      <td>deletion</td>\n",
       "      <td>3</td>\n",
       "      <td>0.600</td>\n",
       "      <td>0.516</td>\n",
       "      <td>0.409</td>\n",
       "      <td>0.176</td>\n",
       "    </tr>\n",
       "    <tr>\n",
       "      <th>1</th>\n",
       "      <td>i want to stay in america for a few years</td>\n",
       "      <td>i want to stay in a few country for a</td>\n",
       "      <td>i want to stay in america for a few years</td>\n",
       "      <td>0.500</td>\n",
       "      <td>none</td>\n",
       "      <td>-1</td>\n",
       "      <td>0.800</td>\n",
       "      <td>0.730</td>\n",
       "      <td>0.588</td>\n",
       "      <td>0.489</td>\n",
       "    </tr>\n",
       "    <tr>\n",
       "      <th>2</th>\n",
       "      <td>i'd like in to be in paris</td>\n",
       "      <td>i'd like like to be in</td>\n",
       "      <td>i'd like to be in paris</td>\n",
       "      <td>0.333</td>\n",
       "      <td>insertion</td>\n",
       "      <td>2</td>\n",
       "      <td>0.833</td>\n",
       "      <td>0.816</td>\n",
       "      <td>0.696</td>\n",
       "      <td>0.577</td>\n",
       "    </tr>\n",
       "    <tr>\n",
       "      <th>3</th>\n",
       "      <td>i'd like to be in paris</td>\n",
       "      <td>i'd like to be in paris</td>\n",
       "      <td>i'd like to be in paris</td>\n",
       "      <td>1.000</td>\n",
       "      <td>none</td>\n",
       "      <td>-1</td>\n",
       "      <td>1.000</td>\n",
       "      <td>1.000</td>\n",
       "      <td>1.000</td>\n",
       "      <td>1.000</td>\n",
       "    </tr>\n",
       "    <tr>\n",
       "      <th>4</th>\n",
       "      <td>of and mary left boston at the end tom october</td>\n",
       "      <td>and tom and mary the end of mary yesterday left</td>\n",
       "      <td>tom and mary left boston at the end of october</td>\n",
       "      <td>0.000</td>\n",
       "      <td>swap</td>\n",
       "      <td>8</td>\n",
       "      <td>0.700</td>\n",
       "      <td>0.558</td>\n",
       "      <td>0.431</td>\n",
       "      <td>0.183</td>\n",
       "    </tr>\n",
       "  </tbody>\n",
       "</table>\n",
       "</div>"
      ],
      "text/plain": [
       "                                            Input  \\\n",
       "0            i want to in america for a few years   \n",
       "1       i want to stay in america for a few years   \n",
       "2                      i'd like in to be in paris   \n",
       "3                         i'd like to be in paris   \n",
       "4  of and mary left boston at the end tom october   \n",
       "\n",
       "                                         Prediction  \\\n",
       "0         i want to travel for a few country for a    \n",
       "1            i want to stay in a few country for a    \n",
       "2                           i'd like like to be in    \n",
       "3                          i'd like to be in paris    \n",
       "4  and tom and mary the end of mary yesterday left    \n",
       "\n",
       "                                           Output  Correct  Noisetype  \\\n",
       "0       i want to stay in america for a few years    0.300   deletion   \n",
       "1       i want to stay in america for a few years    0.500       none   \n",
       "2                         i'd like to be in paris    0.333  insertion   \n",
       "3                         i'd like to be in paris    1.000       none   \n",
       "4  tom and mary left boston at the end of october    0.000       swap   \n",
       "\n",
       "   Noiselocation  BLEU-1  BLEU-2  BLEU-3  BLEU-4  \n",
       "0              3   0.600   0.516   0.409   0.176  \n",
       "1             -1   0.800   0.730   0.588   0.489  \n",
       "2              2   0.833   0.816   0.696   0.577  \n",
       "3             -1   1.000   1.000   1.000   1.000  \n",
       "4              8   0.700   0.558   0.431   0.183  "
      ]
     },
     "execution_count": 5,
     "metadata": {},
     "output_type": "execute_result"
    }
   ],
   "source": [
    "# smooth_method = SmoothingFunction(epsilon=1e-12).method1\n",
    "smooth_method = SmoothingFunction().method1\n",
    "\n",
    "bleu_score_1 = []\n",
    "bleu_score_2 = []\n",
    "bleu_score_3 = []\n",
    "bleu_score_4 = []\n",
    "for i in range(len(references)):\n",
    "    reference = [references[i].strip().split()]\n",
    "    candidate = candidates[i].strip().split()\n",
    "    sentence_bleu_score_1 = sentence_bleu(reference, candidate, weights=(1, 0, 0, 0), smoothing_function=smooth_method)\n",
    "    sentence_bleu_score_2 = sentence_bleu(reference, candidate, weights=(0.5, 0.5, 0, 0), smoothing_function=smooth_method)\n",
    "    sentence_bleu_score_3 = sentence_bleu(reference, candidate, weights=(0.33, 0.33, 0.33, 0), smoothing_function=smooth_method)\n",
    "    sentence_bleu_score_4 = sentence_bleu(reference, candidate, weights=(0.25, 0.25, 0.25, 0.25), smoothing_function=smooth_method)\n",
    "    bleu_score_1.append(sentence_bleu_score_1)\n",
    "    bleu_score_2.append(sentence_bleu_score_2)\n",
    "    bleu_score_3.append(sentence_bleu_score_3)\n",
    "    bleu_score_4.append(sentence_bleu_score_4)\n",
    "results['BLEU-1'] = bleu_score_1\n",
    "results['BLEU-2'] = bleu_score_2\n",
    "results['BLEU-3'] = bleu_score_3\n",
    "results['BLEU-4'] = bleu_score_4\n",
    "\n",
    "results.head()"
   ]
  },
  {
   "cell_type": "code",
   "execution_count": 6,
   "metadata": {
    "collapsed": true
   },
   "outputs": [],
   "source": [
    "#split testset into noisy set and clean set\n",
    "noisy_results = results.loc[results['Noisetype'] != 'none']\n",
    "clean_results = results.loc[results['Noisetype'] == 'none']"
   ]
  },
  {
   "cell_type": "code",
   "execution_count": 7,
   "metadata": {
    "collapsed": false
   },
   "outputs": [],
   "source": [
    "# correlation between the evalutaions: Correct and BLEU\n",
    "def correlation_correct_bleu(results, BLEU_n, data_type):\n",
    "    plt.scatter(results['Correct'].tolist(), results[BLEU_n].tolist())\n",
    "    plt.xlabel(\"Correct score\")\n",
    "    plt.ylabel(BLEU_n + \" score\")\n",
    "    plt.title(data_type + \" test data\")\n",
    "    plt.show()\n",
    "    corr_p, _ = pearsonr(results['Correct'].tolist(), results[BLEU_n].tolist())\n",
    "    print('Pearson\\'s correlation between Correct and ' + BLEU_n + ': %.3f' % corr_p)\n",
    "    corr_s, _ = spearmanr(results['Correct'].tolist(), results[BLEU_n].tolist())\n",
    "    print('Spearman\\'s correlation between Correct and ' + BLEU_n + ': %.3f' % corr_s)"
   ]
  },
  {
   "cell_type": "code",
   "execution_count": 8,
   "metadata": {
    "collapsed": false,
    "scrolled": true
   },
   "outputs": [
    {
     "data": {
      "image/png": "[encoded data removed]",
      "text/plain": [
       "<Figure size 432x288 with 1 Axes>"
      ]
     },
     "metadata": {},
     "output_type": "display_data"
    },
    {
     "name": "stdout",
     "output_type": "stream",
     "text": [
      "Pearson's correlation between Correct and BLEU-4: 0.727\n",
      "Spearman's correlation between Correct and BLEU-4: 0.754\n"
     ]
    },
    {
     "data": {
      "image/png": "[encoded data removed]",
      "text/plain": [
       "<Figure size 432x288 with 1 Axes>"
      ]
     },
     "metadata": {},
     "output_type": "display_data"
    },
    {
     "name": "stdout",
     "output_type": "stream",
     "text": [
      "Pearson's correlation between Correct and BLEU-4: 0.607\n",
      "Spearman's correlation between Correct and BLEU-4: 0.619\n"
     ]
    },
    {
     "data": {
      "image/png": "[encoded data removed]",
      "text/plain": [
       "<Figure size 432x288 with 1 Axes>"
      ]
     },
     "metadata": {},
     "output_type": "display_data"
    },
    {
     "name": "stdout",
     "output_type": "stream",
     "text": [
      "Pearson's correlation between Correct and BLEU-4: 0.798\n",
      "Spearman's correlation between Correct and BLEU-4: 0.842\n"
     ]
    }
   ],
   "source": [
    "# for BLEU_n in ['BLEU-1','BLEU-2','BLEU-3','BLEU-4']:\n",
    "for BLEU_n in ['BLEU-4']:\n",
    "    correlation_correct_bleu(results, BLEU_n, \"all\")\n",
    "    correlation_correct_bleu(noisy_results, BLEU_n, \"noisy\")\n",
    "    correlation_correct_bleu(clean_results, BLEU_n, \"clean\")"
   ]
  },
  {
   "cell_type": "code",
   "execution_count": 9,
   "metadata": {
    "collapsed": false
   },
   "outputs": [],
   "source": [
    "# overall evaluation based on word-level acc, sentence-level acc, BLEU \n",
    "def evaluation(results, data_type):\n",
    "    Correct_mean = results.loc[:,\"Correct\"].mean()\n",
    "    print('word-level accuracy (Correct mean) on %s test data: %.3f%%' % (data_type, Correct_mean * 100))\n",
    "    sentence_level_acc = results.loc[results[\"Correct\"] == 1, \"Correct\"].count() * 1.0 / len(results)\n",
    "    print('sentence-level accuracy on %s test data: %.3f%%' % (data_type, sentence_level_acc * 100))\n",
    "    bleu_1_mean = results.loc[:,\"BLEU-1\"].mean()\n",
    "    print('BLEU-1 mean on %s test data: %.3f' % (data_type, bleu_1_mean))\n",
    "    bleu_2_mean = results.loc[:,\"BLEU-2\"].mean()\n",
    "    print('BLEU-2 mean on %s test data: %.3f' % (data_type, bleu_2_mean))\n",
    "    bleu_3_mean = results.loc[:,\"BLEU-3\"].mean()\n",
    "    print('BLEU-3 mean on %s test data: %.3f' % (data_type, bleu_3_mean))\n",
    "    bleu_4_mean = results.loc[:,\"BLEU-4\"].mean()\n",
    "    print('BLEU-4 mean on %s test data: %.3f \\n' % (data_type, bleu_4_mean))"
   ]
  },
  {
   "cell_type": "code",
   "execution_count": 10,
   "metadata": {
    "collapsed": false
   },
   "outputs": [
    {
     "name": "stdout",
     "output_type": "stream",
     "text": [
      "word-level accuracy (Correct mean) on all test data: 52.118%\n",
      "sentence-level accuracy on all test data: 7.450%\n",
      "BLEU-1 mean on all test data: 0.654\n",
      "BLEU-2 mean on all test data: 0.492\n",
      "BLEU-3 mean on all test data: 0.374\n",
      "BLEU-4 mean on all test data: 0.290 \n",
      "\n",
      "word-level accuracy (Correct mean) on noisy test data: 43.402%\n",
      "sentence-level accuracy on noisy test data: 2.400%\n",
      "BLEU-1 mean on noisy test data: 0.607\n",
      "BLEU-2 mean on noisy test data: 0.427\n",
      "BLEU-3 mean on noisy test data: 0.306\n",
      "BLEU-4 mean on noisy test data: 0.225 \n",
      "\n",
      "word-level accuracy (Correct mean) on clean test data: 60.834%\n",
      "sentence-level accuracy on clean test data: 12.500%\n",
      "BLEU-1 mean on clean test data: 0.701\n",
      "BLEU-2 mean on clean test data: 0.556\n",
      "BLEU-3 mean on clean test data: 0.442\n",
      "BLEU-4 mean on clean test data: 0.356 \n",
      "\n"
     ]
    }
   ],
   "source": [
    "evaluation(results, \"all\")\n",
    "evaluation(noisy_results, \"noisy\")\n",
    "evaluation(clean_results, \"clean\")"
   ]
  },
  {
   "cell_type": "code",
   "execution_count": 11,
   "metadata": {
    "collapsed": false
   },
   "outputs": [],
   "source": [
    "# distribution of BLEU score\n",
    "def distribution_plot(results, metric, data_type):\n",
    "    results_metric = results[metric]\n",
    "    plt.hist(results_metric, bins=30, density=True)\n",
    "    plt.ylabel('count')\n",
    "    plt.xlabel(metric + ' score')\n",
    "    plt.title(data_type + \" test data\")\n",
    "    plt.show()"
   ]
  },
  {
   "cell_type": "code",
   "execution_count": 12,
   "metadata": {
    "collapsed": false
   },
   "outputs": [
    {
     "data": {
      "image/png": "[encoded data removed]",
      "text/plain": [
       "<Figure size 432x288 with 1 Axes>"
      ]
     },
     "metadata": {},
     "output_type": "display_data"
    },
    {
     "data": {
      "image/png": "[encoded data removed]",
      "text/plain": [
       "<Figure size 432x288 with 1 Axes>"
      ]
     },
     "metadata": {},
     "output_type": "display_data"
    },
    {
     "data": {
      "image/png": "[encoded data removed]",
      "text/plain": [
       "<Figure size 432x288 with 1 Axes>"
      ]
     },
     "metadata": {},
     "output_type": "display_data"
    }
   ],
   "source": [
    "# for BLEU_n in ['BLEU-1', 'BLEU-2', 'BLEU-3', 'BLEU-4']:\n",
    "for BLEU_n in ['BLEU-4']:\n",
    "    distribution_plot(results, BLEU_n, \"all\")\n",
    "    distribution_plot(noisy_results, BLEU_n, \"noisy\")\n",
    "    distribution_plot(clean_results, BLEU_n, \"clean\")"
   ]
  },
  {
   "cell_type": "code",
   "execution_count": 13,
   "metadata": {
    "collapsed": false
   },
   "outputs": [
    {
     "data": {
      "image/png": "[encoded data removed]",
      "text/plain": [
       "<Figure size 432x288 with 1 Axes>"
      ]
     },
     "metadata": {},
     "output_type": "display_data"
    },
    {
     "data": {
      "image/png": "[encoded data removed]",
      "text/plain": [
       "<Figure size 432x288 with 1 Axes>"
      ]
     },
     "metadata": {},
     "output_type": "display_data"
    },
    {
     "data": {
      "image/png": "[encoded data removed]",
      "text/plain": [
       "<Figure size 432x288 with 1 Axes>"
      ]
     },
     "metadata": {},
     "output_type": "display_data"
    }
   ],
   "source": [
    "# distribution of Correct score\n",
    "distribution_plot(results, \"Correct\", \"all\")\n",
    "distribution_plot(noisy_results, \"Correct\", \"noisy\")\n",
    "distribution_plot(clean_results, \"Correct\", \"clean\")"
   ]
  },
  {
   "cell_type": "code",
   "execution_count": 14,
   "metadata": {
    "collapsed": false
   },
   "outputs": [
    {
     "name": "stdout",
     "output_type": "stream",
     "text": [
      "evaluation results group by Noisy type:\n"
     ]
    },
    {
     "data": {
      "text/html": [
       "<div>\n",
       "<table border=\"1\" class=\"dataframe\">\n",
       "  <thead>\n",
       "    <tr style=\"text-align: right;\">\n",
       "      <th></th>\n",
       "      <th>Correct</th>\n",
       "      <th>BLEU-1</th>\n",
       "      <th>BLEU-2</th>\n",
       "      <th>BLEU-3</th>\n",
       "      <th>BLEU-4</th>\n",
       "    </tr>\n",
       "    <tr>\n",
       "      <th>Noisetype</th>\n",
       "      <th></th>\n",
       "      <th></th>\n",
       "      <th></th>\n",
       "      <th></th>\n",
       "      <th></th>\n",
       "    </tr>\n",
       "  </thead>\n",
       "  <tbody>\n",
       "    <tr>\n",
       "      <th>none</th>\n",
       "      <td>0.608</td>\n",
       "      <td>0.701</td>\n",
       "      <td>0.556</td>\n",
       "      <td>0.442</td>\n",
       "      <td>0.356</td>\n",
       "    </tr>\n",
       "    <tr>\n",
       "      <th>insertion</th>\n",
       "      <td>0.496</td>\n",
       "      <td>0.654</td>\n",
       "      <td>0.488</td>\n",
       "      <td>0.362</td>\n",
       "      <td>0.275</td>\n",
       "    </tr>\n",
       "    <tr>\n",
       "      <th>deletion</th>\n",
       "      <td>0.412</td>\n",
       "      <td>0.589</td>\n",
       "      <td>0.415</td>\n",
       "      <td>0.295</td>\n",
       "      <td>0.209</td>\n",
       "    </tr>\n",
       "    <tr>\n",
       "      <th>swap</th>\n",
       "      <td>0.392</td>\n",
       "      <td>0.575</td>\n",
       "      <td>0.377</td>\n",
       "      <td>0.260</td>\n",
       "      <td>0.189</td>\n",
       "    </tr>\n",
       "  </tbody>\n",
       "</table>\n",
       "</div>"
      ],
      "text/plain": [
       "           Correct  BLEU-1  BLEU-2  BLEU-3  BLEU-4\n",
       "Noisetype                                         \n",
       "none         0.608   0.701   0.556   0.442   0.356\n",
       "insertion    0.496   0.654   0.488   0.362   0.275\n",
       "deletion     0.412   0.589   0.415   0.295   0.209\n",
       "swap         0.392   0.575   0.377   0.260   0.189"
      ]
     },
     "execution_count": 14,
     "metadata": {},
     "output_type": "execute_result"
    }
   ],
   "source": [
    "# evaluation results group by noisy type\n",
    "print('evaluation results group by Noisy type:')\n",
    "results.groupby(['Noisetype'], sort = True)['Correct', 'BLEU-1', 'BLEU-2', 'BLEU-3', 'BLEU-4'].mean().sort_values('Correct',ascending=False)"
   ]
  },
  {
   "cell_type": "code",
   "execution_count": 15,
   "metadata": {
    "collapsed": false
   },
   "outputs": [],
   "source": [
    "# evaluation results group by output sentence length\n",
    "def group_by_output_length(results, data_type):\n",
    "    outout_length = [len(s.split()) for s in results['Output'].tolist()]\n",
    "    results['outout_length'] = outout_length\n",
    "    print('\\n evaluation results group by output sentence length on %s test data: \\n' % data_type)\n",
    "    print(results.groupby(['outout_length'])['Correct', 'BLEU-1', 'BLEU-2', 'BLEU-3', 'BLEU-4'].mean())"
   ]
  },
  {
   "cell_type": "code",
   "execution_count": 16,
   "metadata": {
    "collapsed": false
   },
   "outputs": [
    {
     "name": "stdout",
     "output_type": "stream",
     "text": [
      "\n",
      " evaluation results group by output sentence length on all test data: \n",
      "\n",
      "               Correct  BLEU-1  BLEU-2  BLEU-3  BLEU-4\n",
      "outout_length                                         \n",
      "5                0.585   0.685   0.527   0.412   0.326\n",
      "6                0.578   0.688   0.541   0.426   0.344\n",
      "7                0.546   0.666   0.506   0.385   0.291\n",
      "8                0.505   0.657   0.488   0.367   0.277\n",
      "9                0.425   0.616   0.432   0.317   0.237\n",
      "10               0.360   0.567   0.383   0.259   0.185\n",
      "11               0.315   0.524   0.326   0.210   0.144\n",
      "12               0.301   0.496   0.340   0.233   0.168\n",
      "13               0.252   0.491   0.286   0.158   0.094\n",
      "14               0.271   0.464   0.241   0.132   0.085\n",
      "15               0.217   0.450   0.247   0.151   0.071\n",
      "16               0.062   0.219   0.120   0.048   0.030\n",
      "17               0.176   0.471   0.243   0.075   0.041\n",
      "18               0.056   0.361   0.177   0.098   0.048\n",
      "19               0.211   0.316   0.132   0.048   0.028\n",
      "22               0.182   0.455   0.156   0.089   0.040\n",
      "\n",
      " evaluation results group by output sentence length on noisy test data: \n",
      "\n",
      "               Correct  BLEU-1  BLEU-2  BLEU-3  BLEU-4\n",
      "outout_length                                         \n",
      "5                0.454   0.622   0.436   0.313   0.230\n",
      "6                0.484   0.633   0.462   0.340   0.260\n",
      "7                0.473   0.622   0.453   0.330   0.238\n",
      "8                0.424   0.609   0.425   0.308   0.227\n",
      "9                0.384   0.586   0.397   0.285   0.208\n",
      "10               0.308   0.529   0.345   0.219   0.149\n",
      "11               0.269   0.520   0.322   0.204   0.137\n",
      "12               0.278   0.514   0.346   0.226   0.162\n",
      "13               0.217   0.485   0.274   0.139   0.080\n",
      "14               0.229   0.429   0.211   0.115   0.057\n",
      "15               0.200   0.500   0.293   0.191   0.086\n",
      "16               0.000   0.188   0.112   0.046   0.029\n",
      "17               0.059   0.471   0.243   0.075   0.041\n",
      "18               0.056   0.333   0.140   0.051   0.030\n",
      "19               0.211   0.316   0.132   0.048   0.028\n",
      "22               0.227   0.409   0.044   0.022   0.015\n",
      "\n",
      " evaluation results group by output sentence length on clean test data: \n",
      "\n",
      "               Correct  BLEU-1  BLEU-2  BLEU-3  BLEU-4\n",
      "outout_length                                         \n",
      "5                0.716   0.747   0.619   0.510   0.422\n",
      "6                0.673   0.743   0.619   0.512   0.429\n",
      "7                0.619   0.709   0.559   0.439   0.345\n",
      "8                0.586   0.706   0.550   0.425   0.328\n",
      "9                0.465   0.647   0.467   0.349   0.265\n",
      "10               0.413   0.606   0.421   0.300   0.221\n",
      "11               0.360   0.527   0.331   0.216   0.150\n",
      "12               0.324   0.479   0.335   0.240   0.175\n",
      "13               0.287   0.497   0.298   0.177   0.108\n",
      "14               0.314   0.500   0.271   0.148   0.113\n",
      "15               0.233   0.400   0.200   0.111   0.056\n",
      "16               0.125   0.250   0.129   0.051   0.031\n",
      "17               0.294   0.471   0.243   0.075   0.041\n",
      "18               0.056   0.389   0.214   0.145   0.066\n",
      "19               0.211   0.316   0.132   0.048   0.028\n",
      "22               0.136   0.500   0.267   0.156   0.066\n"
     ]
    },
    {
     "name": "stderr",
     "output_type": "stream",
     "text": [
      "/usr/local/anaconda3/lib/python3.5/site-packages/ipykernel/__main__.py:4: SettingWithCopyWarning: \n",
      "A value is trying to be set on a copy of a slice from a DataFrame.\n",
      "Try using .loc[row_indexer,col_indexer] = value instead\n",
      "\n",
      "See the caveats in the documentation: http://pandas.pydata.org/pandas-docs/stable/indexing.html#indexing-view-versus-copy\n"
     ]
    }
   ],
   "source": [
    "group_by_output_length(results, \"all\")\n",
    "group_by_output_length(noisy_results, \"noisy\")\n",
    "group_by_output_length(clean_results, \"clean\")"
   ]
  },
  {
   "cell_type": "code",
   "execution_count": 17,
   "metadata": {
    "collapsed": false
   },
   "outputs": [
    {
     "name": "stdout",
     "output_type": "stream",
     "text": [
      "evaluation results group by Noisy type:\n"
     ]
    },
    {
     "data": {
      "text/html": [
       "<div>\n",
       "<table border=\"1\" class=\"dataframe\">\n",
       "  <thead>\n",
       "    <tr style=\"text-align: right;\">\n",
       "      <th></th>\n",
       "      <th></th>\n",
       "      <th>Correct</th>\n",
       "      <th>BLEU-4</th>\n",
       "    </tr>\n",
       "    <tr>\n",
       "      <th>Noisetype</th>\n",
       "      <th>outout_length</th>\n",
       "      <th></th>\n",
       "      <th></th>\n",
       "    </tr>\n",
       "  </thead>\n",
       "  <tbody>\n",
       "    <tr>\n",
       "      <th rowspan=\"10\" valign=\"top\">deletion</th>\n",
       "      <th>5</th>\n",
       "      <td>0.442</td>\n",
       "      <td>0.191</td>\n",
       "    </tr>\n",
       "    <tr>\n",
       "      <th>6</th>\n",
       "      <td>0.435</td>\n",
       "      <td>0.238</td>\n",
       "    </tr>\n",
       "    <tr>\n",
       "      <th>7</th>\n",
       "      <td>0.480</td>\n",
       "      <td>0.232</td>\n",
       "    </tr>\n",
       "    <tr>\n",
       "      <th>8</th>\n",
       "      <td>0.429</td>\n",
       "      <td>0.245</td>\n",
       "    </tr>\n",
       "    <tr>\n",
       "      <th>9</th>\n",
       "      <td>0.368</td>\n",
       "      <td>0.208</td>\n",
       "    </tr>\n",
       "    <tr>\n",
       "      <th>10</th>\n",
       "      <td>0.230</td>\n",
       "      <td>0.136</td>\n",
       "    </tr>\n",
       "    <tr>\n",
       "      <th>11</th>\n",
       "      <td>0.172</td>\n",
       "      <td>0.099</td>\n",
       "    </tr>\n",
       "    <tr>\n",
       "      <th>12</th>\n",
       "      <td>0.262</td>\n",
       "      <td>0.186</td>\n",
       "    </tr>\n",
       "    <tr>\n",
       "      <th>13</th>\n",
       "      <td>0.250</td>\n",
       "      <td>0.066</td>\n",
       "    </tr>\n",
       "    <tr>\n",
       "      <th>14</th>\n",
       "      <td>0.262</td>\n",
       "      <td>0.057</td>\n",
       "    </tr>\n",
       "    <tr>\n",
       "      <th rowspan=\"13\" valign=\"top\">insertion</th>\n",
       "      <th>5</th>\n",
       "      <td>0.509</td>\n",
       "      <td>0.282</td>\n",
       "    </tr>\n",
       "    <tr>\n",
       "      <th>6</th>\n",
       "      <td>0.579</td>\n",
       "      <td>0.317</td>\n",
       "    </tr>\n",
       "    <tr>\n",
       "      <th>7</th>\n",
       "      <td>0.506</td>\n",
       "      <td>0.272</td>\n",
       "    </tr>\n",
       "    <tr>\n",
       "      <th>8</th>\n",
       "      <td>0.486</td>\n",
       "      <td>0.293</td>\n",
       "    </tr>\n",
       "    <tr>\n",
       "      <th>9</th>\n",
       "      <td>0.382</td>\n",
       "      <td>0.226</td>\n",
       "    </tr>\n",
       "    <tr>\n",
       "      <th>10</th>\n",
       "      <td>0.425</td>\n",
       "      <td>0.217</td>\n",
       "    </tr>\n",
       "    <tr>\n",
       "      <th>11</th>\n",
       "      <td>0.273</td>\n",
       "      <td>0.169</td>\n",
       "    </tr>\n",
       "    <tr>\n",
       "      <th>12</th>\n",
       "      <td>0.400</td>\n",
       "      <td>0.203</td>\n",
       "    </tr>\n",
       "    <tr>\n",
       "      <th>13</th>\n",
       "      <td>0.205</td>\n",
       "      <td>0.137</td>\n",
       "    </tr>\n",
       "    <tr>\n",
       "      <th>14</th>\n",
       "      <td>0.143</td>\n",
       "      <td>0.020</td>\n",
       "    </tr>\n",
       "    <tr>\n",
       "      <th>15</th>\n",
       "      <td>0.200</td>\n",
       "      <td>0.086</td>\n",
       "    </tr>\n",
       "    <tr>\n",
       "      <th>17</th>\n",
       "      <td>0.059</td>\n",
       "      <td>0.041</td>\n",
       "    </tr>\n",
       "    <tr>\n",
       "      <th>18</th>\n",
       "      <td>0.056</td>\n",
       "      <td>0.030</td>\n",
       "    </tr>\n",
       "    <tr>\n",
       "      <th rowspan=\"16\" valign=\"top\">none</th>\n",
       "      <th>5</th>\n",
       "      <td>0.716</td>\n",
       "      <td>0.422</td>\n",
       "    </tr>\n",
       "    <tr>\n",
       "      <th>6</th>\n",
       "      <td>0.673</td>\n",
       "      <td>0.429</td>\n",
       "    </tr>\n",
       "    <tr>\n",
       "      <th>7</th>\n",
       "      <td>0.619</td>\n",
       "      <td>0.345</td>\n",
       "    </tr>\n",
       "    <tr>\n",
       "      <th>8</th>\n",
       "      <td>0.586</td>\n",
       "      <td>0.328</td>\n",
       "    </tr>\n",
       "    <tr>\n",
       "      <th>9</th>\n",
       "      <td>0.465</td>\n",
       "      <td>0.265</td>\n",
       "    </tr>\n",
       "    <tr>\n",
       "      <th>10</th>\n",
       "      <td>0.413</td>\n",
       "      <td>0.221</td>\n",
       "    </tr>\n",
       "    <tr>\n",
       "      <th>11</th>\n",
       "      <td>0.360</td>\n",
       "      <td>0.150</td>\n",
       "    </tr>\n",
       "    <tr>\n",
       "      <th>12</th>\n",
       "      <td>0.324</td>\n",
       "      <td>0.175</td>\n",
       "    </tr>\n",
       "    <tr>\n",
       "      <th>13</th>\n",
       "      <td>0.287</td>\n",
       "      <td>0.108</td>\n",
       "    </tr>\n",
       "    <tr>\n",
       "      <th>14</th>\n",
       "      <td>0.314</td>\n",
       "      <td>0.113</td>\n",
       "    </tr>\n",
       "    <tr>\n",
       "      <th>15</th>\n",
       "      <td>0.233</td>\n",
       "      <td>0.056</td>\n",
       "    </tr>\n",
       "    <tr>\n",
       "      <th>16</th>\n",
       "      <td>0.125</td>\n",
       "      <td>0.031</td>\n",
       "    </tr>\n",
       "    <tr>\n",
       "      <th>17</th>\n",
       "      <td>0.294</td>\n",
       "      <td>0.041</td>\n",
       "    </tr>\n",
       "    <tr>\n",
       "      <th>18</th>\n",
       "      <td>0.056</td>\n",
       "      <td>0.066</td>\n",
       "    </tr>\n",
       "    <tr>\n",
       "      <th>19</th>\n",
       "      <td>0.211</td>\n",
       "      <td>0.028</td>\n",
       "    </tr>\n",
       "    <tr>\n",
       "      <th>22</th>\n",
       "      <td>0.136</td>\n",
       "      <td>0.066</td>\n",
       "    </tr>\n",
       "    <tr>\n",
       "      <th rowspan=\"14\" valign=\"top\">swap</th>\n",
       "      <th>5</th>\n",
       "      <td>0.415</td>\n",
       "      <td>0.222</td>\n",
       "    </tr>\n",
       "    <tr>\n",
       "      <th>6</th>\n",
       "      <td>0.420</td>\n",
       "      <td>0.213</td>\n",
       "    </tr>\n",
       "    <tr>\n",
       "      <th>7</th>\n",
       "      <td>0.433</td>\n",
       "      <td>0.208</td>\n",
       "    </tr>\n",
       "    <tr>\n",
       "      <th>8</th>\n",
       "      <td>0.349</td>\n",
       "      <td>0.135</td>\n",
       "    </tr>\n",
       "    <tr>\n",
       "      <th>9</th>\n",
       "      <td>0.406</td>\n",
       "      <td>0.189</td>\n",
       "    </tr>\n",
       "    <tr>\n",
       "      <th>10</th>\n",
       "      <td>0.273</td>\n",
       "      <td>0.099</td>\n",
       "    </tr>\n",
       "    <tr>\n",
       "      <th>11</th>\n",
       "      <td>0.390</td>\n",
       "      <td>0.144</td>\n",
       "    </tr>\n",
       "    <tr>\n",
       "      <th>12</th>\n",
       "      <td>0.194</td>\n",
       "      <td>0.099</td>\n",
       "    </tr>\n",
       "    <tr>\n",
       "      <th>13</th>\n",
       "      <td>0.192</td>\n",
       "      <td>0.050</td>\n",
       "    </tr>\n",
       "    <tr>\n",
       "      <th>14</th>\n",
       "      <td>0.214</td>\n",
       "      <td>0.093</td>\n",
       "    </tr>\n",
       "    <tr>\n",
       "      <th>15</th>\n",
       "      <td>0.200</td>\n",
       "      <td>0.086</td>\n",
       "    </tr>\n",
       "    <tr>\n",
       "      <th>16</th>\n",
       "      <td>0.000</td>\n",
       "      <td>0.029</td>\n",
       "    </tr>\n",
       "    <tr>\n",
       "      <th>19</th>\n",
       "      <td>0.211</td>\n",
       "      <td>0.028</td>\n",
       "    </tr>\n",
       "    <tr>\n",
       "      <th>22</th>\n",
       "      <td>0.227</td>\n",
       "      <td>0.015</td>\n",
       "    </tr>\n",
       "  </tbody>\n",
       "</table>\n",
       "</div>"
      ],
      "text/plain": [
       "                         Correct  BLEU-4\n",
       "Noisetype outout_length                 \n",
       "deletion  5                0.442   0.191\n",
       "          6                0.435   0.238\n",
       "          7                0.480   0.232\n",
       "          8                0.429   0.245\n",
       "          9                0.368   0.208\n",
       "          10               0.230   0.136\n",
       "          11               0.172   0.099\n",
       "          12               0.262   0.186\n",
       "          13               0.250   0.066\n",
       "          14               0.262   0.057\n",
       "insertion 5                0.509   0.282\n",
       "          6                0.579   0.317\n",
       "          7                0.506   0.272\n",
       "          8                0.486   0.293\n",
       "          9                0.382   0.226\n",
       "          10               0.425   0.217\n",
       "          11               0.273   0.169\n",
       "          12               0.400   0.203\n",
       "          13               0.205   0.137\n",
       "          14               0.143   0.020\n",
       "          15               0.200   0.086\n",
       "          17               0.059   0.041\n",
       "          18               0.056   0.030\n",
       "none      5                0.716   0.422\n",
       "          6                0.673   0.429\n",
       "          7                0.619   0.345\n",
       "          8                0.586   0.328\n",
       "          9                0.465   0.265\n",
       "          10               0.413   0.221\n",
       "          11               0.360   0.150\n",
       "          12               0.324   0.175\n",
       "          13               0.287   0.108\n",
       "          14               0.314   0.113\n",
       "          15               0.233   0.056\n",
       "          16               0.125   0.031\n",
       "          17               0.294   0.041\n",
       "          18               0.056   0.066\n",
       "          19               0.211   0.028\n",
       "          22               0.136   0.066\n",
       "swap      5                0.415   0.222\n",
       "          6                0.420   0.213\n",
       "          7                0.433   0.208\n",
       "          8                0.349   0.135\n",
       "          9                0.406   0.189\n",
       "          10               0.273   0.099\n",
       "          11               0.390   0.144\n",
       "          12               0.194   0.099\n",
       "          13               0.192   0.050\n",
       "          14               0.214   0.093\n",
       "          15               0.200   0.086\n",
       "          16               0.000   0.029\n",
       "          19               0.211   0.028\n",
       "          22               0.227   0.015"
      ]
     },
     "execution_count": 17,
     "metadata": {},
     "output_type": "execute_result"
    }
   ],
   "source": [
    "# combine noisy type and output length results\n",
    "print('evaluation results group by Noisy type:')\n",
    "results.groupby(['Noisetype', 'outout_length'])['Correct', 'BLEU-4'].mean()"
   ]
  }
 ],
 "metadata": {
  "anaconda-cloud": {},
  "kernelspec": {
   "display_name": "Python [conda env:anaconda3]",
   "language": "python",
   "name": "conda-env-anaconda3-py"
  },
  "language_info": {
   "codemirror_mode": {
    "name": "ipython",
    "version": 3
   },
   "file_extension": ".py",
   "mimetype": "text/x-python",
   "name": "python",
   "nbconvert_exporter": "python",
   "pygments_lexer": "ipython3",
   "version": "3.5.6"
  }
 },
 "nbformat": 4,
 "nbformat_minor": 1
}
