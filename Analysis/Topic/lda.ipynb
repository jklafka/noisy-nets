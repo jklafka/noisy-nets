{
 "cells": [
  {
   "cell_type": "code",
   "execution_count": 7,
   "metadata": {},
   "outputs": [],
   "source": [
    "import csv, pickle #, spacy\n",
    "from gensim.models import LdaModel\n",
    "from gensim.corpora.dictionary import Dictionary"
   ]
  },
  {
   "cell_type": "code",
   "execution_count": null,
   "metadata": {},
   "outputs": [],
   "source": [
    "## hyperparameters\n",
    "NUM_TOPICS = 10"
   ]
  },
  {
   "cell_type": "markdown",
   "metadata": {},
   "source": [
    "Our goal here is to analyze "
   ]
  },
  {
   "cell_type": "code",
   "execution_count": null,
   "metadata": {},
   "outputs": [],
   "source": [
    "nlp = spacy.load(\"en_core_web_sm\")"
   ]
  },
  {
   "cell_type": "code",
   "execution_count": 5,
   "metadata": {},
   "outputs": [],
   "source": [
    "## get autoencoder inputs, predictions and targets\n",
    "# texts = open(\"../../Stimuli/eng-eng.txt\").read().splitlines()\n",
    "original_texts = []\n",
    "with open(\"../../Results/noisy-results.csv\", 'r') as results_file:\n",
    "    results_reader = csv.reader(results_file)\n",
    "    for line in results_reader:\n",
    "        original_texts.append(line)"
   ]
  },
  {
   "cell_type": "code",
   "execution_count": null,
   "metadata": {},
   "outputs": [],
   "source": [
    "### lemmatize and filter stopwords\n",
    "clean_texts = []\n",
    "for input, prediction, target in original_texts: \n",
    "    doc = nlp(input)\n"
   ]
  },
  {
   "cell_type": "markdown",
   "metadata": {},
   "source": [
    "We now construct topics.  "
   ]
  },
  {
   "cell_type": "markdown",
   "metadata": {},
   "source": [
    "## LDA\n",
    "\n",
    "The *latent Dirichlet allocation* model..."
   ]
  },
  {
   "cell_type": "code",
   "execution_count": 2,
   "metadata": {},
   "outputs": [],
   "source": [
    "# take only the autoencoder target\n",
    "texts = [text.split('\\t')[1].split(' ') for text in texts]\n",
    "text_dictionary = Dictionary(texts)\n",
    "index_space = [text_dictionary.doc2bow(text) for text in texts]\n",
    "lda = LdaModel(index_space, num_topics = NUM_TOPICS, id2word = text_dictionary)"
   ]
  },
  {
   "cell_type": "code",
   "execution_count": null,
   "metadata": {},
   "outputs": [],
   "source": [
    "## show the top five words associated with each topic\n",
    "lda.print_topics(num_words = 5)"
   ]
  },
  {
   "cell_type": "code",
   "execution_count": null,
   "metadata": {},
   "outputs": [],
   "source": [
    "### Use pyLDAvis??"
   ]
  }
 ],
 "metadata": {
  "kernelspec": {
   "display_name": "Python 3",
   "language": "python",
   "name": "python3"
  },
  "language_info": {
   "codemirror_mode": {
    "name": "ipython",
    "version": 3
   },
   "file_extension": ".py",
   "mimetype": "text/x-python",
   "name": "python",
   "nbconvert_exporter": "python",
   "pygments_lexer": "ipython3",
   "version": "3.7.0"
  }
 },
 "nbformat": 4,
 "nbformat_minor": 4
}
