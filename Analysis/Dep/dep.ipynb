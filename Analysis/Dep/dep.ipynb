{
 "cells": [
  {
   "cell_type": "code",
   "execution_count": null,
   "metadata": {},
   "outputs": [],
   "source": [
    "import spacy"
   ]
  },
  {
   "cell_type": "code",
   "execution_count": null,
   "metadata": {},
   "outputs": [],
   "source": [
    "# load model\n",
    "nlp = spacy.load(\"en_core_web_sm\")"
   ]
  },
  {
   "cell_type": "code",
   "execution_count": null,
   "metadata": {},
   "outputs": [],
   "source": [
    "doc1 = nlp(\"the cat sat on the mat\")\n",
    "doc2 = nlp(\"the the cat sat on the mat\")\n",
    "\n",
    "# print the children in each dep structure\n",
    "print(\"Token\", \"Dep\", \"Head\", \"Children\")\n",
    "print(\"--------------------------------\")\n",
    "for token in doc1:\n",
    "     print(token.text, token.dep_, token.head.text, [child for child in token.children])\n",
    "for token in doc2:\n",
    "     print(token.text, token.dep_, token.head.text, [child for child in token.children])"
   ]
  },
  {
   "cell_type": "code",
   "execution_count": null,
   "metadata": {},
   "outputs": [],
   "source": [
    "## visualize\n",
    "from spacy import displacy\n",
    "displacy.serve([doc1, doc2], style = \"dep\")"
   ]
  }
 ],
 "metadata": {
  "kernelspec": {
   "display_name": "Python 3",
   "language": "python",
   "name": "python3"
  },
  "language_info": {
   "codemirror_mode": {
    "name": "ipython",
    "version": 3
   },
   "file_extension": ".py",
   "mimetype": "text/x-python",
   "name": "python",
   "nbconvert_exporter": "python",
   "pygments_lexer": "ipython3",
   "version": "3.7.0"
  }
 },
 "nbformat": 4,
 "nbformat_minor": 4
}
